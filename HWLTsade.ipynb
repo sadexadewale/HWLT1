{
 "cells": [
  {
   "cell_type": "code",
   "execution_count": 6,
   "metadata": {},
   "outputs": [
    {
     "name": "stdout",
     "output_type": "stream",
     "text": [
      " I hope you have a nice time\n"
     ]
    }
   ],
   "source": [
    "Question = (\"Hello, Will you be going on holiday next year?\") \n",
    "if Question == (\"no\"):\n",
    "\tprint (\"Hopefully you will go next year\")\n",
    "elif Question == (\"yes\"):\n",
    "    user_ans= int(input(\"How many times?\"))\n",
    "\n",
    "print (\" I hope you have a nice time\") \n"
   ]
  },
  {
   "cell_type": "code",
   "execution_count": 36,
   "metadata": {},
   "outputs": [],
   "source": [
    "Motorbike = 2000\n",
    "dep       = 0.9\n",
    "year      = 2021\n"
   ]
  },
  {
   "cell_type": "code",
   "execution_count": 40,
   "metadata": {},
   "outputs": [],
   "source": [
    "def function_1(year, Motorbike, dep):\n",
    "      while Motorbike > 1000:\n",
    "            print(\"The motorbike cost is in\", year, \"this value\", Motorbike)\n",
    "            year += 1\n",
    "            Motorbike = Motorbike* dep\n",
    "      \n",
    "      return year, Motorbike"
   ]
  },
  {
   "cell_type": "code",
   "execution_count": 41,
   "metadata": {},
   "outputs": [
    {
     "name": "stdout",
     "output_type": "stream",
     "text": [
      "The motorbike cost is in 2021 this value 2000\n",
      "The motorbike cost is in 2022 this value 1800.0\n",
      "The motorbike cost is in 2023 this value 1620.0\n",
      "The motorbike cost is in 2024 this value 1458.0\n",
      "The motorbike cost is in 2025 this value 1312.2\n",
      "The motorbike cost is in 2026 this value 1180.98\n",
      "The motorbike cost is in 2027 this value 1062.882\n"
     ]
    },
    {
     "data": {
      "text/plain": [
       "(2028, 956.5938000000001)"
      ]
     },
     "execution_count": 41,
     "metadata": {},
     "output_type": "execute_result"
    }
   ],
   "source": [
    "function_1(year,Motorbike,dep)"
   ]
  },
  {
   "cell_type": "code",
   "execution_count": 32,
   "metadata": {},
   "outputs": [],
   "source": [
    "bike_price = 2000\n",
    "bike_dep   = 0.9\n",
    "year       = 2021"
   ]
  },
  {
   "cell_type": "code",
   "execution_count": 33,
   "metadata": {},
   "outputs": [],
   "source": [
    "def year_value_reduction(year, price, dep):\n",
    "    while price > 1000:\n",
    "        print(\"value of the item in year\", year, \"is £\", price)\n",
    "        year += 1\n",
    "        price = price * dep\n",
    "    return year, price    "
   ]
  },
  {
   "cell_type": "code",
   "execution_count": 35,
   "metadata": {},
   "outputs": [
    {
     "name": "stdout",
     "output_type": "stream",
     "text": [
      "value of the item in year 2021 is £ 2000\n",
      "value of the item in year 2022 is £ 1800.0\n",
      "value of the item in year 2023 is £ 1620.0\n",
      "value of the item in year 2024 is £ 1458.0\n",
      "value of the item in year 2025 is £ 1312.2\n",
      "value of the item in year 2026 is £ 1180.98\n",
      "value of the item in year 2027 is £ 1062.882\n"
     ]
    },
    {
     "data": {
      "text/plain": [
       "(2028, 956.5938000000001)"
      ]
     },
     "execution_count": 35,
     "metadata": {},
     "output_type": "execute_result"
    }
   ],
   "source": [
    "year_value_reduction(year,bike_price, bike_dep)"
   ]
  },
  {
   "cell_type": "code",
   "execution_count": 88,
   "metadata": {},
   "outputs": [],
   "source": [
    "\n",
    "\n",
    "def calculator(number_1,number_2):\n",
    "    sign = input(\"Please select sign:\")\n",
    "  \n",
    "    if sign == '+' :\n",
    "        print( number_1 + number_2)\n",
    "    elif sign == '-' :\n",
    "        print(number_1 - number_2)\n",
    "    elif sign == '/' :\n",
    "        print(number_1 / number_2)\n",
    "    elif sign == '*' :\n",
    "        print(number_1 * number_2)\n",
    "    elif sign == '**' :\n",
    "        print(number_1 ** number_2)\n",
    "    elif sign == '%' :\n",
    "        print(number_1 % number_2)\n",
    "    elif sign == '//' :\n",
    "        print(number_1 // number_2)\n",
    "    else:\n",
    "        print(\"An appropriate operator was not selected!\")\n",
    "\n"
   ]
  },
  {
   "cell_type": "code",
   "execution_count": 89,
   "metadata": {},
   "outputs": [
    {
     "name": "stdout",
     "output_type": "stream",
     "text": [
      "Hello,please enter enter two number you would like to calculate\n"
     ]
    }
   ],
   "source": [
    "print(\"Hello,please enter enter two number you would like to calculate\")\n",
    "\n",
    "number_1= int(input(\"Please enter your first number\"))\n",
    "number_2= int(input(\"Please enter your second number\"))\n"
   ]
  },
  {
   "cell_type": "code",
   "execution_count": 90,
   "metadata": {},
   "outputs": [
    {
     "name": "stdout",
     "output_type": "stream",
     "text": [
      "20\n"
     ]
    }
   ],
   "source": [
    "calculator(number_1,number_2)"
   ]
  }
 ],
 "metadata": {
  "interpreter": {
   "hash": "cb9f90bc575e6c8826f897de464d559ad7d56034ae66f7a05693ae6d1865bed4"
  },
  "kernelspec": {
   "display_name": "Python 3.9.9 64-bit (windows store)",
   "language": "python",
   "name": "python3"
  },
  "language_info": {
   "codemirror_mode": {
    "name": "ipython",
    "version": 3
   },
   "file_extension": ".py",
   "mimetype": "text/x-python",
   "name": "python",
   "nbconvert_exporter": "python",
   "pygments_lexer": "ipython3",
   "version": "3.10.1"
  },
  "orig_nbformat": 4
 },
 "nbformat": 4,
 "nbformat_minor": 2
}
